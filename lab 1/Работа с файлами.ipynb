{
 "cells": [
  {
   "cell_type": "code",
   "execution_count": 1,
   "id": "3b0113d7-efc3-4865-9c22-e4d236f5f876",
   "metadata": {},
   "outputs": [
    {
     "name": "stdout",
     "output_type": "stream",
     "text": [
      "Содержимое файла:\n",
      " один\n",
      "два\n",
      "три\n",
      "\n",
      "Файл существует: True\n",
      "Файл удален.\n"
     ]
    }
   ],
   "source": [
    "import os\n",
    "\n",
    "with open(\"digits.txt\", \"w\") as f:\n",
    "    f.write(\"один\\n\")\n",
    "    f.write(\"два\\n\")\n",
    "    f.write(\"три\\n\")\n",
    "\n",
    "with open(\"digits.txt\", \"r\") as f:\n",
    "    content = f.read()\n",
    "    print(\"Содержимое файла:\\n\", content)\n",
    "\n",
    "print(\"Файл существует:\", os.path.exists(\"digits.txt\"))\n",
    "\n",
    "os.remove(\"digits.txt\")\n",
    "print(\"Файл удален.\")"
   ]
  }
 ],
 "metadata": {
  "kernelspec": {
   "display_name": "Python 3 (ipykernel)",
   "language": "python",
   "name": "python3"
  },
  "language_info": {
   "codemirror_mode": {
    "name": "ipython",
    "version": 3
   },
   "file_extension": ".py",
   "mimetype": "text/x-python",
   "name": "python",
   "nbconvert_exporter": "python",
   "pygments_lexer": "ipython3",
   "version": "3.12.7"
  }
 },
 "nbformat": 4,
 "nbformat_minor": 5
}
