{
 "cells": [
  {
   "cell_type": "markdown",
   "id": "6df577d1-3e6b-4d12-8eca-b988f0b0059b",
   "metadata": {},
   "source": [
    "# Практическое задание №1\n",
    "* *Курсивный текст в маркированном списке*\n",
    "* **Жирный текст в маркированном списке**\n",
    "1. *Курсивный текст в нумерованном списке*\n",
    "2. **Жирный текст в нумерованном списке**\n",
    "   \n",
    "Определение интеграла по контуру в комплексной плоскости (формула Коши):\n",
    "\n",
    "$$ \\oint_C \\frac{f(z)}{z - z_0} \\, dz = 2\\pi i f(z_0)$$\n",
    "\n",
    "![работа](attachment:ee64eaac-e8d0-4144-9085-438d6795dccb.png)"
   ]
  },
  {
   "cell_type": "code",
   "execution_count": null,
   "id": "5c5e6e3f-677c-4db6-87e5-7711b264ff19",
   "metadata": {},
   "outputs": [],
   "source": []
  },
  {
   "cell_type": "code",
   "execution_count": null,
   "id": "460bf345-2798-4118-88ec-b8adbd69c162",
   "metadata": {},
   "outputs": [],
   "source": [
    "name = input()\n",
    "print(\"Привет, \", name, \"!\", \" Добро пожаловать в JupyterLab / Google Colab!\")"
   ]
  },
  {
   "cell_type": "code",
   "execution_count": null,
   "id": "58baaf84-9143-41dd-81a0-865a62bdb0c2",
   "metadata": {},
   "outputs": [],
   "source": []
  }
 ],
 "metadata": {
  "kernelspec": {
   "display_name": "Python 3 (ipykernel)",
   "language": "python",
   "name": "python3"
  },
  "language_info": {
   "codemirror_mode": {
    "name": "ipython",
    "version": 3
   },
   "file_extension": ".py",
   "mimetype": "text/x-python",
   "name": "python",
   "nbconvert_exporter": "python",
   "pygments_lexer": "ipython3",
   "version": "3.12.7"
  }
 },
 "nbformat": 4,
 "nbformat_minor": 5
}
