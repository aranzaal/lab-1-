{
 "cells": [
  {
   "cell_type": "code",
   "execution_count": 6,
   "id": "ac894fc1-c01f-46b6-aacc-a930f74ffc3c",
   "metadata": {},
   "outputs": [
    {
     "name": "stdout",
     "output_type": "stream",
     "text": [
      " Том в устройстве C имеет метку Windows\n",
      " Серийный номер тома: 4428-FEA3\n",
      "\n",
      " Содержимое папки C:\\Users\\alima\n",
      "\n",
      "16.05.2025  11:40    <DIR>          .\n",
      "10.02.2025  20:46    <DIR>          ..\n",
      "14.02.2025  14:10    <DIR>          .anaconda\n",
      "16.05.2025  11:40    <DIR>          .conda\n",
      "14.02.2025  14:11               146 .condarc\n",
      "14.02.2025  14:10    <DIR>          .continuum\n",
      "09.02.2025  10:29    <DIR>          .dotnet\n",
      "16.05.2025  11:40    <DIR>          .ipynb_checkpoints\n",
      "14.02.2025  14:18    <DIR>          .ipython\n",
      "14.02.2025  14:17    <DIR>          .jupyter\n",
      "14.02.2025  14:28    <DIR>          .matplotlib\n",
      "14.05.2025  21:07               176 .packettracer\n",
      "23.03.2025  16:13    <DIR>          .templateengine\n",
      "16.05.2025  11:15    <DIR>          .virtual_documents\n",
      "09.02.2025  10:11    <DIR>          .vscode\n",
      "14.02.2025  14:17    <DIR>          anaconda3\n",
      "15.05.2025  08:26    <DIR>          Cisco Packet Tracer 8.2.2\n",
      "07.02.2025  14:16    <DIR>          Contacts\n",
      "16.05.2025  09:45                62 data.csv\n",
      "09.02.2025  10:26    <DIR>          Documents\n",
      "16.05.2025  11:32    <DIR>          Downloads\n",
      "07.02.2025  14:16    <DIR>          Favorites\n",
      "16.05.2025  09:57            43 412 lab 1. Примеры.ipynb\n",
      "07.02.2025  14:16    <DIR>          Links\n",
      "07.02.2025  14:16    <DIR>          Music\n",
      "16.05.2025  11:17    <DIR>          notebooks\n",
      "07.02.2025  14:12    <DIR>          OneDrive\n",
      "07.02.2025  14:16    <DIR>          Saved Games\n",
      "14.03.2025  09:00    <DIR>          Searches\n",
      "09.02.2025  16:52    <DIR>          source\n",
      "16.05.2025  11:40    <DIR>          test_folder\n",
      "16.05.2025  11:27                56 test_script.py\n",
      "07.02.2025  14:16    <DIR>          Videos\n",
      "16.05.2025  11:39             4 551 Взаимодействие с оболочкой системы.ipynb\n",
      "16.05.2025  11:31            10 965 Магические команды Jupyter.ipynb\n",
      "16.05.2025  11:23             1 426 Работа с файлами.ipynb\n",
      "16.05.2025  11:22           329 590 Работа с ячейками Markdown.ipynb\n",
      "               9 файлов        390 384 байт\n",
      "              28 папок  24 950 595 584 байт свободно\n"
     ]
    }
   ],
   "source": [
    "ls"
   ]
  },
  {
   "cell_type": "code",
   "execution_count": 3,
   "id": "71e284dd-cf04-414e-9a4e-9f2a09db2e98",
   "metadata": {},
   "outputs": [
    {
     "name": "stderr",
     "output_type": "stream",
     "text": [
      "\"which\" не является внутренней или внешней\n",
      "командой, исполняемой программой или пакетным файлом.\n"
     ]
    }
   ],
   "source": [
    "!which python"
   ]
  },
  {
   "cell_type": "code",
   "execution_count": 4,
   "id": "9ee9536f-1cd9-45ea-bb7c-8addbb3db78d",
   "metadata": {},
   "outputs": [
    {
     "name": "stdout",
     "output_type": "stream",
     "text": [
      "Python 3.12.7\n"
     ]
    }
   ],
   "source": [
    "!python --version"
   ]
  },
  {
   "cell_type": "code",
   "execution_count": 5,
   "id": "06bdea72-3182-4a74-821b-3b5a542ace73",
   "metadata": {},
   "outputs": [],
   "source": [
    "!mkdir test_folder"
   ]
  },
  {
   "cell_type": "code",
   "execution_count": 7,
   "id": "0696857b-c2f4-401e-94eb-4cc6e390cd38",
   "metadata": {},
   "outputs": [
    {
     "name": "stdout",
     "output_type": "stream",
     "text": [
      " Том в устройстве C имеет метку Windows\n",
      " Серийный номер тома: 4428-FEA3\n",
      "\n",
      " Содержимое папки C:\\Users\\alima\\test_folder\n",
      "\n",
      "16.05.2025  11:40    <DIR>          .\n",
      "16.05.2025  11:41    <DIR>          ..\n",
      "16.05.2025  11:40    <DIR>          .ipynb_checkpoints\n",
      "16.05.2025  09:34               265 untitled.md\n",
      "               1 файлов            265 байт\n",
      "               3 папок  24 950 669 312 байт свободно\n"
     ]
    }
   ],
   "source": [
    "%ls test_folder"
   ]
  },
  {
   "cell_type": "code",
   "execution_count": 9,
   "id": "a23d17de-e650-49c1-94f2-e12366d9eb2e",
   "metadata": {},
   "outputs": [
    {
     "name": "stderr",
     "output_type": "stream",
     "text": [
      "Папка не пуста.\n"
     ]
    }
   ],
   "source": [
    "!rmdir test_folder"
   ]
  },
  {
   "cell_type": "code",
   "execution_count": null,
   "id": "64cd8288-a7e7-4436-a99f-866772a70d31",
   "metadata": {},
   "outputs": [],
   "source": []
  }
 ],
 "metadata": {
  "kernelspec": {
   "display_name": "Python 3 (ipykernel)",
   "language": "python",
   "name": "python3"
  },
  "language_info": {
   "codemirror_mode": {
    "name": "ipython",
    "version": 3
   },
   "file_extension": ".py",
   "mimetype": "text/x-python",
   "name": "python",
   "nbconvert_exporter": "python",
   "pygments_lexer": "ipython3",
   "version": "3.12.7"
  }
 },
 "nbformat": 4,
 "nbformat_minor": 5
}
