{
 "cells": [
  {
   "cell_type": "code",
   "execution_count": 1,
   "id": "048beef7-5f69-4900-bf2e-963a63562935",
   "metadata": {},
   "outputs": [
    {
     "data": {
      "application/json": {
       "cell": {
        "!": "OSMagics",
        "HTML": "Other",
        "SVG": "Other",
        "bash": "Other",
        "capture": "ExecutionMagics",
        "cmd": "Other",
        "code_wrap": "ExecutionMagics",
        "debug": "ExecutionMagics",
        "file": "Other",
        "html": "DisplayMagics",
        "javascript": "DisplayMagics",
        "js": "DisplayMagics",
        "latex": "DisplayMagics",
        "markdown": "DisplayMagics",
        "perl": "Other",
        "prun": "ExecutionMagics",
        "pypy": "Other",
        "python": "Other",
        "python2": "Other",
        "python3": "Other",
        "ruby": "Other",
        "script": "ScriptMagics",
        "sh": "Other",
        "svg": "DisplayMagics",
        "sx": "OSMagics",
        "system": "OSMagics",
        "time": "ExecutionMagics",
        "timeit": "ExecutionMagics",
        "writefile": "OSMagics"
       },
       "line": {
        "alias": "OSMagics",
        "alias_magic": "BasicMagics",
        "autoawait": "AsyncMagics",
        "autocall": "AutoMagics",
        "automagic": "AutoMagics",
        "autosave": "KernelMagics",
        "bookmark": "OSMagics",
        "cd": "OSMagics",
        "clear": "KernelMagics",
        "cls": "KernelMagics",
        "code_wrap": "ExecutionMagics",
        "colors": "BasicMagics",
        "conda": "PackagingMagics",
        "config": "ConfigMagics",
        "connect_info": "KernelMagics",
        "copy": "Other",
        "ddir": "Other",
        "debug": "ExecutionMagics",
        "dhist": "OSMagics",
        "dirs": "OSMagics",
        "doctest_mode": "BasicMagics",
        "echo": "Other",
        "ed": "Other",
        "edit": "KernelMagics",
        "env": "OSMagics",
        "gui": "BasicMagics",
        "hist": "Other",
        "history": "HistoryMagics",
        "killbgscripts": "ScriptMagics",
        "ldir": "Other",
        "less": "KernelMagics",
        "load": "CodeMagics",
        "load_ext": "ExtensionMagics",
        "loadpy": "CodeMagics",
        "logoff": "LoggingMagics",
        "logon": "LoggingMagics",
        "logstart": "LoggingMagics",
        "logstate": "LoggingMagics",
        "logstop": "LoggingMagics",
        "ls": "Other",
        "lsmagic": "BasicMagics",
        "macro": "ExecutionMagics",
        "magic": "BasicMagics",
        "mamba": "PackagingMagics",
        "matplotlib": "PylabMagics",
        "micromamba": "PackagingMagics",
        "mkdir": "Other",
        "more": "KernelMagics",
        "notebook": "BasicMagics",
        "page": "BasicMagics",
        "pastebin": "CodeMagics",
        "pdb": "ExecutionMagics",
        "pdef": "NamespaceMagics",
        "pdoc": "NamespaceMagics",
        "pfile": "NamespaceMagics",
        "pinfo": "NamespaceMagics",
        "pinfo2": "NamespaceMagics",
        "pip": "PackagingMagics",
        "popd": "OSMagics",
        "pprint": "BasicMagics",
        "precision": "BasicMagics",
        "prun": "ExecutionMagics",
        "psearch": "NamespaceMagics",
        "psource": "NamespaceMagics",
        "pushd": "OSMagics",
        "pwd": "OSMagics",
        "pycat": "OSMagics",
        "pylab": "PylabMagics",
        "qtconsole": "KernelMagics",
        "quickref": "BasicMagics",
        "recall": "HistoryMagics",
        "rehashx": "OSMagics",
        "reload_ext": "ExtensionMagics",
        "ren": "Other",
        "rep": "Other",
        "rerun": "HistoryMagics",
        "reset": "NamespaceMagics",
        "reset_selective": "NamespaceMagics",
        "rmdir": "Other",
        "run": "ExecutionMagics",
        "save": "CodeMagics",
        "sc": "OSMagics",
        "set_env": "OSMagics",
        "store": "StoreMagics",
        "sx": "OSMagics",
        "system": "OSMagics",
        "tb": "ExecutionMagics",
        "time": "ExecutionMagics",
        "timeit": "ExecutionMagics",
        "unalias": "OSMagics",
        "unload_ext": "ExtensionMagics",
        "who": "NamespaceMagics",
        "who_ls": "NamespaceMagics",
        "whos": "NamespaceMagics",
        "xdel": "NamespaceMagics",
        "xmode": "BasicMagics"
       }
      },
      "text/plain": [
       "Available line magics:\n",
       "%alias  %alias_magic  %autoawait  %autocall  %automagic  %autosave  %bookmark  %cd  %clear  %cls  %code_wrap  %colors  %conda  %config  %connect_info  %copy  %ddir  %debug  %dhist  %dirs  %doctest_mode  %echo  %ed  %edit  %env  %gui  %hist  %history  %killbgscripts  %ldir  %less  %load  %load_ext  %loadpy  %logoff  %logon  %logstart  %logstate  %logstop  %ls  %lsmagic  %macro  %magic  %mamba  %matplotlib  %micromamba  %mkdir  %more  %notebook  %page  %pastebin  %pdb  %pdef  %pdoc  %pfile  %pinfo  %pinfo2  %pip  %popd  %pprint  %precision  %prun  %psearch  %psource  %pushd  %pwd  %pycat  %pylab  %qtconsole  %quickref  %recall  %rehashx  %reload_ext  %ren  %rep  %rerun  %reset  %reset_selective  %rmdir  %run  %save  %sc  %set_env  %store  %sx  %system  %tb  %time  %timeit  %unalias  %unload_ext  %who  %who_ls  %whos  %xdel  %xmode\n",
       "\n",
       "Available cell magics:\n",
       "%%!  %%HTML  %%SVG  %%bash  %%capture  %%cmd  %%code_wrap  %%debug  %%file  %%html  %%javascript  %%js  %%latex  %%markdown  %%perl  %%prun  %%pypy  %%python  %%python2  %%python3  %%ruby  %%script  %%sh  %%svg  %%sx  %%system  %%time  %%timeit  %%writefile\n",
       "\n",
       "Automagic is ON, % prefix IS NOT needed for line magics."
      ]
     },
     "execution_count": 1,
     "metadata": {},
     "output_type": "execute_result"
    }
   ],
   "source": [
    "%lsmagic"
   ]
  },
  {
   "cell_type": "code",
   "execution_count": 2,
   "id": "72ae2f14-0dd9-4b1e-ba78-33912c82c081",
   "metadata": {},
   "outputs": [
    {
     "name": "stdout",
     "output_type": "stream",
     "text": [
      "Writing test_script.py\n"
     ]
    }
   ],
   "source": [
    "%%writefile test_script.py\n",
    "for i in range(3):\n",
    "    print(f\"Итерация {i}\")"
   ]
  },
  {
   "cell_type": "code",
   "execution_count": 3,
   "id": "ba3210b7-46a8-4024-bb4d-621d4d93cf65",
   "metadata": {},
   "outputs": [
    {
     "name": "stdout",
     "output_type": "stream",
     "text": [
      "Итерация 0\n",
      "Итерация 1\n",
      "Итерация 2\n"
     ]
    }
   ],
   "source": [
    "!python test_script.py"
   ]
  },
  {
   "cell_type": "code",
   "execution_count": 4,
   "id": "8d8fc654-79bc-4fcb-99e1-f0935c914c73",
   "metadata": {},
   "outputs": [
    {
     "name": "stdout",
     "output_type": "stream",
     "text": [
      "CPU times: total: 46.9 ms\n",
      "Wall time: 57.3 ms\n"
     ]
    },
    {
     "data": {
      "text/plain": [
       "499999500000"
      ]
     },
     "execution_count": 4,
     "metadata": {},
     "output_type": "execute_result"
    }
   ],
   "source": [
    "%time sum(range(1000000))"
   ]
  },
  {
   "cell_type": "code",
   "execution_count": 6,
   "id": "5575e364-b6d0-4dba-a18e-7b85566de470",
   "metadata": {},
   "outputs": [
    {
     "name": "stdout",
     "output_type": "stream",
     "text": [
      "%lsmagic\n",
      "%%writefile test_script.py\n",
      "for i in range(3):\n",
      "    print(f\"Итерация {i}\")\n",
      "!python test_script.py\n",
      "%time sum(range(1000000))\n",
      "%ls\n",
      "%history\n"
     ]
    }
   ],
   "source": [
    "%history"
   ]
  },
  {
   "cell_type": "code",
   "execution_count": 5,
   "id": "c21f7b74-8c43-4e0b-9c0f-c323c719bc10",
   "metadata": {},
   "outputs": [
    {
     "name": "stdout",
     "output_type": "stream",
     "text": [
      " Том в устройстве C имеет метку Windows\n",
      " Серийный номер тома: 4428-FEA3\n",
      "\n",
      " Содержимое папки C:\\Users\\alima\n",
      "\n",
      "16.05.2025  11:27    <DIR>          .\n",
      "10.02.2025  20:46    <DIR>          ..\n",
      "14.02.2025  14:10    <DIR>          .anaconda\n",
      "16.05.2025  11:27    <DIR>          .conda\n",
      "14.02.2025  14:11               146 .condarc\n",
      "14.02.2025  14:10    <DIR>          .continuum\n",
      "09.02.2025  10:29    <DIR>          .dotnet\n",
      "16.05.2025  11:26    <DIR>          .ipynb_checkpoints\n",
      "14.02.2025  14:18    <DIR>          .ipython\n",
      "14.02.2025  14:17    <DIR>          .jupyter\n",
      "14.02.2025  14:28    <DIR>          .matplotlib\n",
      "14.05.2025  21:07               176 .packettracer\n",
      "23.03.2025  16:13    <DIR>          .templateengine\n",
      "16.05.2025  11:15    <DIR>          .virtual_documents\n",
      "09.02.2025  10:11    <DIR>          .vscode\n",
      "14.02.2025  14:17    <DIR>          anaconda3\n",
      "15.05.2025  08:26    <DIR>          Cisco Packet Tracer 8.2.2\n",
      "07.02.2025  14:16    <DIR>          Contacts\n",
      "16.05.2025  09:45                62 data.csv\n",
      "09.02.2025  10:26    <DIR>          Documents\n",
      "16.05.2025  11:26    <DIR>          Downloads\n",
      "07.02.2025  14:16    <DIR>          Favorites\n",
      "16.05.2025  09:57            43 412 lab 1. Примеры.ipynb\n",
      "07.02.2025  14:16    <DIR>          Links\n",
      "07.02.2025  14:16    <DIR>          Music\n",
      "16.05.2025  11:17    <DIR>          notebooks\n",
      "07.02.2025  14:12    <DIR>          OneDrive\n",
      "07.02.2025  14:16    <DIR>          Saved Games\n",
      "14.03.2025  09:00    <DIR>          Searches\n",
      "09.02.2025  16:52    <DIR>          source\n",
      "16.05.2025  11:27                56 test_script.py\n",
      "16.05.2025  11:26                72 Untitled.ipynb\n",
      "16.05.2025  09:34               265 untitled.md\n",
      "07.02.2025  14:16    <DIR>          Videos\n",
      "16.05.2025  11:23             1 426 Работа с файлами.ipynb\n",
      "16.05.2025  11:22           329 590 Работа с ячейками Markdown.ipynb\n",
      "               9 файлов        375 205 байт\n",
      "              27 папок  24 967 528 448 байт свободно\n"
     ]
    }
   ],
   "source": [
    "%ls"
   ]
  },
  {
   "cell_type": "code",
   "execution_count": null,
   "id": "56fc7770-148d-48d5-9fc5-e251c811f0d9",
   "metadata": {},
   "outputs": [],
   "source": []
  }
 ],
 "metadata": {
  "kernelspec": {
   "display_name": "Python 3 (ipykernel)",
   "language": "python",
   "name": "python3"
  },
  "language_info": {
   "codemirror_mode": {
    "name": "ipython",
    "version": 3
   },
   "file_extension": ".py",
   "mimetype": "text/x-python",
   "name": "python",
   "nbconvert_exporter": "python",
   "pygments_lexer": "ipython3",
   "version": "3.12.7"
  }
 },
 "nbformat": 4,
 "nbformat_minor": 5
}
